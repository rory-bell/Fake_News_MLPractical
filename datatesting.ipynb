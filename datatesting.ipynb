{
 "cells": [
  {
   "cell_type": "code",
   "execution_count": 1,
   "metadata": {},
   "outputs": [],
   "source": [
    "import numpy as np\n",
    "import pandas as pd\n",
    "from sklearn.ensemble import RandomForestClassifier\n",
    "from sklearn.model_selection import train_test_split\n",
    "from sklearn.metrics import f1_score\n",
    "from sklearn.metrics import accuracy_score\n",
    "from numpy import random\n",
    "\n"
   ]
  },
  {
   "cell_type": "code",
   "execution_count": 2,
   "metadata": {},
   "outputs": [],
   "source": [
    "random.seed(42)\n",
    "\n",
    "data = pd.read_csv('data/Features_For_Traditional_ML_Techniques.csv')\n",
    "#remove all meta-data features as we are comparing structure (except hashtags)\n",
    "#compare to original data performance on baseline models\n",
    "meta_features = [\"followers_count\", \"friends_count\",\"favourites_count\",\"statuses_count\",\"listed_count\",\"following\",\"embeddings\",\"BotScore\",\t\"BotScoreBinary\",\"cred\",\"normalize_influence\",\"mentions\",\"quotes\",\"replies\",\"retweets\",\"favourites\",\"URLs\"]\n",
    "#filter data to only include non-meta features\n",
    "data = data.drop(meta_features, axis=1)\n",
    "data = data.drop('majority_target', axis=1)\n",
    "\n",
    "\n",
    "\n",
    "grouped = data.groupby('statement')\n",
    "train_data = pd.DataFrame()\n",
    "test_data = pd.DataFrame()\n",
    "i=0\n",
    "\n",
    "for group_name, group_df in grouped:\n",
    "    if random.random() <= 0.8:\n",
    "        train_data = pd.concat([train_data, group_df])\n",
    "    else:\n",
    "        test_data = pd.concat([test_data, group_df])\n",
    "    i += 1\n",
    "    # if i > 100:\n",
    "    #     break\n",
    "# train_data = train_data.drop(['tweet', 'statement'], axis=1)\n",
    "# test_data = test_data.drop(['tweet', 'statement'], axis=1)"
   ]
  },
  {
   "cell_type": "code",
   "execution_count": 3,
   "metadata": {},
   "outputs": [
    {
     "name": "stderr",
     "output_type": "stream",
     "text": [
      "C:\\Users\\roryb\\AppData\\Local\\Temp\\ipykernel_11452\\3536426476.py:6: DeprecationWarning: `np.object` is a deprecated alias for the builtin `object`. To silence this warning, use `object` by itself. Doing this will not modify any behavior and is safe. \n",
      "Deprecated in NumPy 1.20; for more details and guidance: https://numpy.org/devdocs/release/1.20.0-notes.html#deprecations\n",
      "  string_columns = np.array([np.issubdtype(type(col), np.str_) or np.issubdtype(type(col), np.object) for col in train_data.iloc[0]])\n"
     ]
    }
   ],
   "source": [
    "from sklearn.preprocessing import LabelEncoder\n",
    "\n",
    "# Handle string values using label encoding\n",
    "label_encoder = LabelEncoder()\n",
    "# Identify columns with string values (assuming dtype is 'str' or 'object')\n",
    "string_columns = np.array([np.issubdtype(type(col), np.str_) or np.issubdtype(type(col), np.object) for col in train_data.iloc[0]])\n",
    "# Apply label encoding to string columns\n",
    "for col_index in np.where(string_columns)[0]:\n",
    "    train_data.iloc[:, col_index] = label_encoder.fit_transform(train_data.iloc[:, col_index].astype(str))\n",
    "\n",
    "features_train = train_data.astype(np.float32)\n"
   ]
  },
  {
   "cell_type": "code",
   "execution_count": 4,
   "metadata": {},
   "outputs": [
    {
     "name": "stdout",
     "output_type": "stream",
     "text": [
      "Index(['Unnamed: 0', 'BinaryNumTarget', 'hashtags', 'unique_count',\n",
      "       'total_count', 'ORG_percentage', 'NORP_percentage', 'GPE_percentage',\n",
      "       'PERSON_percentage', 'MONEY_percentage', 'DATE_percentage',\n",
      "       'CARDINAL_percentage', 'PERCENT_percentage', 'ORDINAL_percentage',\n",
      "       'FAC_percentage', 'LAW_percentage', 'PRODUCT_percentage',\n",
      "       'EVENT_percentage', 'TIME_percentage', 'LOC_percentage',\n",
      "       'WORK_OF_ART_percentage', 'QUANTITY_percentage', 'LANGUAGE_percentage',\n",
      "       'Word count', 'Max word length', 'Min word length',\n",
      "       'Average word length', 'present_verbs', 'past_verbs', 'adjectives',\n",
      "       'adverbs', 'adpositions', 'pronouns', 'TOs', 'determiners',\n",
      "       'conjunctions', 'dots', 'exclamation', 'questions', 'ampersand',\n",
      "       'capitals', 'digits', 'long_word_freq', 'short_word_freq'],\n",
      "      dtype='object')\n"
     ]
    },
    {
     "name": "stderr",
     "output_type": "stream",
     "text": [
      "C:\\Users\\roryb\\AppData\\Local\\Temp\\ipykernel_11452\\1685473516.py:6: DeprecationWarning: `np.object` is a deprecated alias for the builtin `object`. To silence this warning, use `object` by itself. Doing this will not modify any behavior and is safe. \n",
      "Deprecated in NumPy 1.20; for more details and guidance: https://numpy.org/devdocs/release/1.20.0-notes.html#deprecations\n",
      "  string_columns = np.array([np.issubdtype(type(col), np.str_) or np.issubdtype(type(col), np.object) for col in test_data.iloc[0]])\n"
     ]
    }
   ],
   "source": [
    "from sklearn.preprocessing import LabelEncoder\n",
    "\n",
    "# Handle string values using label encoding\n",
    "label_encoder = LabelEncoder()\n",
    "# Identify columns with string values (assuming dtype is 'str' or 'object')\n",
    "string_columns = np.array([np.issubdtype(type(col), np.str_) or np.issubdtype(type(col), np.object) for col in test_data.iloc[0]])\n",
    "print(test_data.columns)\n",
    "# Apply label encoding to string columns\n",
    "for col_index in np.where(string_columns)[0]:\n",
    "    test_data.iloc[:, col_index] = label_encoder.fit_transform(test_data.iloc[:, col_index].astype(str))\n",
    "\n",
    "features_test = test_data.astype(np.float32)\n"
   ]
  },
  {
   "cell_type": "code",
   "execution_count": 5,
   "metadata": {},
   "outputs": [
    {
     "data": {
      "text/plain": [
       "(106733, 27465)"
      ]
     },
     "execution_count": 5,
     "metadata": {},
     "output_type": "execute_result"
    }
   ],
   "source": [
    "len(train_data), len(test_data)"
   ]
  },
  {
   "cell_type": "code",
   "execution_count": 6,
   "metadata": {},
   "outputs": [
    {
     "name": "stdout",
     "output_type": "stream",
     "text": [
      "Index(['Unnamed: 0', 'BinaryNumTarget', 'hashtags', 'unique_count',\n",
      "       'total_count', 'ORG_percentage', 'NORP_percentage', 'GPE_percentage',\n",
      "       'PERSON_percentage', 'MONEY_percentage', 'DATE_percentage',\n",
      "       'CARDINAL_percentage', 'PERCENT_percentage', 'ORDINAL_percentage',\n",
      "       'FAC_percentage', 'LAW_percentage', 'PRODUCT_percentage',\n",
      "       'EVENT_percentage', 'TIME_percentage', 'LOC_percentage',\n",
      "       'WORK_OF_ART_percentage', 'QUANTITY_percentage', 'LANGUAGE_percentage',\n",
      "       'Word count', 'Max word length', 'Min word length',\n",
      "       'Average word length', 'present_verbs', 'past_verbs', 'adjectives',\n",
      "       'adverbs', 'adpositions', 'pronouns', 'TOs', 'determiners',\n",
      "       'conjunctions', 'dots', 'exclamation', 'questions', 'ampersand',\n",
      "       'capitals', 'digits', 'long_word_freq', 'short_word_freq'],\n",
      "      dtype='object') (44,)\n"
     ]
    }
   ],
   "source": [
    "print(train_data.columns, train_data.iloc[0].shape)"
   ]
  },
  {
   "cell_type": "code",
   "execution_count": 7,
   "metadata": {},
   "outputs": [
    {
     "name": "stdout",
     "output_type": "stream",
     "text": [
      "BinaryNumTarget\n",
      "1.0    55988\n",
      "0.0    50745\n",
      "Name: count, dtype: int64\n"
     ]
    }
   ],
   "source": [
    "train_targets= train_data['BinaryNumTarget']\n",
    "train_data_notarget = train_data.drop(['BinaryNumTarget'], axis=1)\n",
    "\n",
    "test_targets= test_data['BinaryNumTarget']\n",
    "test_data_notarget = test_data.drop(['BinaryNumTarget'], axis=1)\n",
    "\n",
    "print(train_targets.value_counts())"
   ]
  },
  {
   "cell_type": "code",
   "execution_count": 8,
   "metadata": {},
   "outputs": [
    {
     "data": {
      "text/html": [
       "<style>#sk-container-id-1 {color: black;background-color: white;}#sk-container-id-1 pre{padding: 0;}#sk-container-id-1 div.sk-toggleable {background-color: white;}#sk-container-id-1 label.sk-toggleable__label {cursor: pointer;display: block;width: 100%;margin-bottom: 0;padding: 0.3em;box-sizing: border-box;text-align: center;}#sk-container-id-1 label.sk-toggleable__label-arrow:before {content: \"▸\";float: left;margin-right: 0.25em;color: #696969;}#sk-container-id-1 label.sk-toggleable__label-arrow:hover:before {color: black;}#sk-container-id-1 div.sk-estimator:hover label.sk-toggleable__label-arrow:before {color: black;}#sk-container-id-1 div.sk-toggleable__content {max-height: 0;max-width: 0;overflow: hidden;text-align: left;background-color: #f0f8ff;}#sk-container-id-1 div.sk-toggleable__content pre {margin: 0.2em;color: black;border-radius: 0.25em;background-color: #f0f8ff;}#sk-container-id-1 input.sk-toggleable__control:checked~div.sk-toggleable__content {max-height: 200px;max-width: 100%;overflow: auto;}#sk-container-id-1 input.sk-toggleable__control:checked~label.sk-toggleable__label-arrow:before {content: \"▾\";}#sk-container-id-1 div.sk-estimator input.sk-toggleable__control:checked~label.sk-toggleable__label {background-color: #d4ebff;}#sk-container-id-1 div.sk-label input.sk-toggleable__control:checked~label.sk-toggleable__label {background-color: #d4ebff;}#sk-container-id-1 input.sk-hidden--visually {border: 0;clip: rect(1px 1px 1px 1px);clip: rect(1px, 1px, 1px, 1px);height: 1px;margin: -1px;overflow: hidden;padding: 0;position: absolute;width: 1px;}#sk-container-id-1 div.sk-estimator {font-family: monospace;background-color: #f0f8ff;border: 1px dotted black;border-radius: 0.25em;box-sizing: border-box;margin-bottom: 0.5em;}#sk-container-id-1 div.sk-estimator:hover {background-color: #d4ebff;}#sk-container-id-1 div.sk-parallel-item::after {content: \"\";width: 100%;border-bottom: 1px solid gray;flex-grow: 1;}#sk-container-id-1 div.sk-label:hover label.sk-toggleable__label {background-color: #d4ebff;}#sk-container-id-1 div.sk-serial::before {content: \"\";position: absolute;border-left: 1px solid gray;box-sizing: border-box;top: 0;bottom: 0;left: 50%;z-index: 0;}#sk-container-id-1 div.sk-serial {display: flex;flex-direction: column;align-items: center;background-color: white;padding-right: 0.2em;padding-left: 0.2em;position: relative;}#sk-container-id-1 div.sk-item {position: relative;z-index: 1;}#sk-container-id-1 div.sk-parallel {display: flex;align-items: stretch;justify-content: center;background-color: white;position: relative;}#sk-container-id-1 div.sk-item::before, #sk-container-id-1 div.sk-parallel-item::before {content: \"\";position: absolute;border-left: 1px solid gray;box-sizing: border-box;top: 0;bottom: 0;left: 50%;z-index: -1;}#sk-container-id-1 div.sk-parallel-item {display: flex;flex-direction: column;z-index: 1;position: relative;background-color: white;}#sk-container-id-1 div.sk-parallel-item:first-child::after {align-self: flex-end;width: 50%;}#sk-container-id-1 div.sk-parallel-item:last-child::after {align-self: flex-start;width: 50%;}#sk-container-id-1 div.sk-parallel-item:only-child::after {width: 0;}#sk-container-id-1 div.sk-dashed-wrapped {border: 1px dashed gray;margin: 0 0.4em 0.5em 0.4em;box-sizing: border-box;padding-bottom: 0.4em;background-color: white;}#sk-container-id-1 div.sk-label label {font-family: monospace;font-weight: bold;display: inline-block;line-height: 1.2em;}#sk-container-id-1 div.sk-label-container {text-align: center;}#sk-container-id-1 div.sk-container {/* jupyter's `normalize.less` sets `[hidden] { display: none; }` but bootstrap.min.css set `[hidden] { display: none !important; }` so we also need the `!important` here to be able to override the default hidden behavior on the sphinx rendered scikit-learn.org. See: https://github.com/scikit-learn/scikit-learn/issues/21755 */display: inline-block !important;position: relative;}#sk-container-id-1 div.sk-text-repr-fallback {display: none;}</style><div id=\"sk-container-id-1\" class=\"sk-top-container\"><div class=\"sk-text-repr-fallback\"><pre>RandomForestClassifier(random_state=0)</pre><b>In a Jupyter environment, please rerun this cell to show the HTML representation or trust the notebook. <br />On GitHub, the HTML representation is unable to render, please try loading this page with nbviewer.org.</b></div><div class=\"sk-container\" hidden><div class=\"sk-item\"><div class=\"sk-estimator sk-toggleable\"><input class=\"sk-toggleable__control sk-hidden--visually\" id=\"sk-estimator-id-1\" type=\"checkbox\" checked><label for=\"sk-estimator-id-1\" class=\"sk-toggleable__label sk-toggleable__label-arrow\">RandomForestClassifier</label><div class=\"sk-toggleable__content\"><pre>RandomForestClassifier(random_state=0)</pre></div></div></div></div></div>"
      ],
      "text/plain": [
       "RandomForestClassifier(random_state=0)"
      ]
     },
     "execution_count": 8,
     "metadata": {},
     "output_type": "execute_result"
    }
   ],
   "source": [
    "#fit random forest model\n",
    "rf = RandomForestClassifier(n_estimators=100, random_state=0)\n",
    "rf.fit(train_data_notarget, train_targets)\n",
    "\n"
   ]
  },
  {
   "cell_type": "code",
   "execution_count": 9,
   "metadata": {},
   "outputs": [
    {
     "name": "stdout",
     "output_type": "stream",
     "text": [
      "0.9881851636645361\n",
      "0.9888949572182778\n"
     ]
    }
   ],
   "source": [
    "rf.predict(test_data_notarget)\n",
    "print(f1_score(test_targets, rf.predict(test_data_notarget)))\n",
    "print(accuracy_score(test_targets, rf.predict(test_data_notarget)))"
   ]
  },
  {
   "cell_type": "code",
   "execution_count": null,
   "metadata": {},
   "outputs": [],
   "source": []
  }
 ],
 "metadata": {
  "kernelspec": {
   "display_name": "Python 3",
   "language": "python",
   "name": "python3"
  },
  "language_info": {
   "codemirror_mode": {
    "name": "ipython",
    "version": 3
   },
   "file_extension": ".py",
   "mimetype": "text/x-python",
   "name": "python",
   "nbconvert_exporter": "python",
   "pygments_lexer": "ipython3",
   "version": "3.8.10"
  }
 },
 "nbformat": 4,
 "nbformat_minor": 2
}
