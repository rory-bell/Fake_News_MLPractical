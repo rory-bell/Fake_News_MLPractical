{
 "cells": [
  {
   "cell_type": "code",
   "execution_count": 1,
   "metadata": {},
   "outputs": [],
   "source": [
    "import numpy as np\n",
    "import pandas as pd\n",
    "from sklearn.ensemble import RandomForestClassifier\n",
    "from sklearn.model_selection import train_test_split\n",
    "from sklearn.metrics import f1_score\n",
    "from sklearn.metrics import accuracy_score\n",
    "from numpy import random\n",
    "\n"
   ]
  },
  {
   "cell_type": "code",
   "execution_count": 2,
   "metadata": {},
   "outputs": [],
   "source": [
    "random.seed(42)\n",
    "\n",
    "data = pd.read_csv('data/Features_For_Traditional_ML_Techniques.csv')\n",
    "#remove all meta-data features as we are comparing structure (except hashtags)\n",
    "#compare to original data performance on baseline models\n",
    "meta_features = [\"followers_count\", \"friends_count\",\"favourites_count\",\"statuses_count\",\"listed_count\",\"following\",\"embeddings\",\"BotScore\",\t\"BotScoreBinary\",\"cred\",\"normalize_influence\",\"mentions\",\"quotes\",\"replies\",\"retweets\",\"favourites\",\"URLs\"]\n",
    "#filter data to only include non-meta features\n",
    "data = data.drop(meta_features, axis=1)\n",
    "\n",
    "data = data.drop('majority_target', axis=1)\n"
   ]
  },
  {
   "cell_type": "code",
   "execution_count": 3,
   "metadata": {},
   "outputs": [],
   "source": [
    "# group by statements\n",
    "# will change when get subcategories\n",
    "grouped = data.groupby('statement')\n",
    "train_data = pd.DataFrame()\n",
    "test_data = pd.DataFrame()\n",
    "random.seed(42)\n",
    "\n",
    "i=0\n",
    "\n",
    "for group_name, group_df in grouped:\n",
    "    if random.random() <= 0.8:\n",
    "        train_data = pd.concat([train_data, group_df])\n",
    "    else:\n",
    "        test_data = pd.concat([test_data, group_df])\n",
    "    i += 1\n"
   ]
  },
  {
   "cell_type": "code",
   "execution_count": 4,
   "metadata": {},
   "outputs": [
    {
     "name": "stdout",
     "output_type": "stream",
     "text": [
      "Index(['Unnamed: 0', 'statement', 'BinaryNumTarget', 'tweet', 'hashtags',\n",
      "       'unique_count', 'total_count', 'ORG_percentage', 'NORP_percentage',\n",
      "       'GPE_percentage', 'PERSON_percentage', 'MONEY_percentage',\n",
      "       'DATE_percentage', 'CARDINAL_percentage', 'PERCENT_percentage',\n",
      "       'ORDINAL_percentage', 'FAC_percentage', 'LAW_percentage',\n",
      "       'PRODUCT_percentage', 'EVENT_percentage', 'TIME_percentage',\n",
      "       'LOC_percentage', 'WORK_OF_ART_percentage', 'QUANTITY_percentage',\n",
      "       'LANGUAGE_percentage', 'Word count', 'Max word length',\n",
      "       'Min word length', 'Average word length', 'present_verbs', 'past_verbs',\n",
      "       'adjectives', 'adverbs', 'adpositions', 'pronouns', 'TOs',\n",
      "       'determiners', 'conjunctions', 'dots', 'exclamation', 'questions',\n",
      "       'ampersand', 'capitals', 'digits', 'long_word_freq', 'short_word_freq'],\n",
      "      dtype='object')\n"
     ]
    }
   ],
   "source": [
    "len(train_data.iloc[0]), len(test_data.iloc[0])\n",
    "print(train_data.columns)"
   ]
  },
  {
   "cell_type": "code",
   "execution_count": 5,
   "metadata": {},
   "outputs": [
    {
     "name": "stdout",
     "output_type": "stream",
     "text": [
      "No common elements between train and test data\n"
     ]
    }
   ],
   "source": [
    "\n",
    "train_statement_unique = set(train_data[\"statement\"].unique())\n",
    "test_statement_unique = set(test_data[\"statement\"].unique())\n",
    "\n",
    "common_elements = train_statement_unique.intersection(test_statement_unique)\n",
    "if len(common_elements) != 0:\n",
    "    print(\"Error: common elements between train and test data\")\n",
    "    print(len(common_elements))\n",
    "else:\n",
    "    print(\"No common elements between train and test data\")"
   ]
  },
  {
   "cell_type": "code",
   "execution_count": 6,
   "metadata": {},
   "outputs": [],
   "source": [
    "import torch as torch\n",
    "import torch.nn as nn\n"
   ]
  },
  {
   "cell_type": "code",
   "execution_count": 7,
   "metadata": {},
   "outputs": [],
   "source": [
    "params = {}\n",
    "params['input_size'] = train_data.iloc[0].shape[0] - 1 #46 features after removing target\n",
    "params['hidden_size'] = 100 # arbitrary\n",
    "params['num_classes'] = 2 # binary classification, real or fake\n",
    "params['num_epochs'] = 10\n",
    "params['batch_size'] = 64\n",
    "params['learning_rate'] = 0.001"
   ]
  },
  {
   "cell_type": "code",
   "execution_count": 8,
   "metadata": {},
   "outputs": [
    {
     "name": "stdout",
     "output_type": "stream",
     "text": [
      "Unnamed: 0                                                            68447\n",
      "statement                 \"(M)ore Georgians have jobs than at any other ...\n",
      "BinaryNumTarget                                                         1.0\n",
      "tweet                     @GovernorDeal More Georgians have jobs than at...\n",
      "hashtags                                                                0.0\n",
      "unique_count                                                              2\n",
      "total_count                                                               2\n",
      "ORG_percentage                                                          0.5\n",
      "NORP_percentage                                                         0.0\n",
      "GPE_percentage                                                          0.0\n",
      "PERSON_percentage                                                       0.0\n",
      "MONEY_percentage                                                        0.0\n",
      "DATE_percentage                                                         0.0\n",
      "CARDINAL_percentage                                                     0.5\n",
      "PERCENT_percentage                                                      0.0\n",
      "ORDINAL_percentage                                                      0.0\n",
      "FAC_percentage                                                          0.0\n",
      "LAW_percentage                                                          0.0\n",
      "PRODUCT_percentage                                                      0.0\n",
      "EVENT_percentage                                                        0.0\n",
      "TIME_percentage                                                         0.0\n",
      "LOC_percentage                                                          0.0\n",
      "WORK_OF_ART_percentage                                                  0.0\n",
      "QUANTITY_percentage                                                     0.0\n",
      "LANGUAGE_percentage                                                     0.0\n",
      "Word count                                                               27\n",
      "Max word length                                                          10\n",
      "Min word length                                                           1\n",
      "Average word length                                                4.444444\n",
      "present_verbs                                                             1\n",
      "past_verbs                                                                0\n",
      "adjectives                                                                2\n",
      "adverbs                                                                   2\n",
      "adpositions                                                               1\n",
      "pronouns                                                                  0\n",
      "TOs                                                                       0\n",
      "determiners                                                               1\n",
      "conjunctions                                                              0\n",
      "dots                                                                      1\n",
      "exclamation                                                               0\n",
      "questions                                                                 0\n",
      "ampersand                                                                 0\n",
      "capitals                                                                  6\n",
      "digits                                                                    2\n",
      "long_word_freq                                                            0\n",
      "short_word_freq                                                          19\n",
      "Name: 68447, dtype: object\n"
     ]
    }
   ],
   "source": [
    "print(train_data.iloc[0])"
   ]
  },
  {
   "cell_type": "code",
   "execution_count": 9,
   "metadata": {},
   "outputs": [],
   "source": [
    "class Net(nn.Module):\n",
    "    def __init__(self, params):\n",
    "        super(Net, self).__init__()\n",
    "        self.fc1 = nn.Linear(params['input_size'], params['hidden_size'])\n",
    "        self.fc2 = nn.Linear(params['hidden_size'], params['hidden_size'])\n",
    "        self.fc3 = nn.Linear(params['hidden_size'], params['num_classes'])\n",
    "\n",
    "    def forward(self, x):\n",
    "        x = torch.relu(self.fc1(x))\n",
    "        x = torch.relu(self.fc2(x))\n",
    "        x = self.fc3(x)\n",
    "        return torch.log_softmax(x, dim=1)\n",
    "    "
   ]
  },
  {
   "cell_type": "code",
   "execution_count": 10,
   "metadata": {},
   "outputs": [],
   "source": [
    "from torch.utils.data import Dataset, DataLoader\n",
    "\n",
    "class FakeNewsDataset(Dataset):\n",
    "    def __init__(self, features, target):\n",
    "        self.features = torch.tensor(features)#, dtype=torch.float32)\n",
    "        self.target = torch.tensor(target)#, dtype=torch.float32)\n",
    "\n",
    "    def __len__(self):\n",
    "        return len(self.features)\n",
    "\n",
    "    def __getitem__(self, index):\n",
    "        return self.features[index], self.target[index]\n"
   ]
  },
  {
   "cell_type": "code",
   "execution_count": 12,
   "metadata": {},
   "outputs": [],
   "source": [
    "from sklearn.preprocessing import LabelEncoder, OneHotEncoder\n",
    "\n",
    "\n",
    "features_train = train_data.drop('BinaryNumTarget', axis=1).values\n",
    "\n",
    "# Handle string values using label encoding\n",
    "label_encoder = LabelEncoder()\n",
    "# Identify columns with string values (assuming dtype is 'str' or 'object')\n",
    "string_columns = np.array([np.issubdtype(type(col), np.str_) or np.issubdtype(type(col), np.object_) for col in features_train[0]])\n",
    "\n",
    "# Apply label encoding to string columns\n",
    "for col_index in np.where(string_columns)[0]:\n",
    "    features_train[:, col_index] = label_encoder.fit_transform(features_train[:, col_index].astype(str))\n",
    "\n",
    "features_train = features_train.astype(np.float32)\n",
    "\n",
    "\n",
    "# for i in range(len(features_train[0])):\n",
    "#     print(i, type(features_train[1][i]))\n",
    "\n",
    "target_train = train_data['BinaryNumTarget'].values\n",
    "train_torch_ds = FakeNewsDataset(features_train, target_train)\n",
    "train_loader = DataLoader(train_torch_ds, batch_size=params['batch_size'], shuffle=True)\n",
    "\n",
    "\n"
   ]
  },
  {
   "cell_type": "code",
   "execution_count": 13,
   "metadata": {},
   "outputs": [],
   "source": [
    "from sklearn.preprocessing import LabelEncoder, OneHotEncoder\n",
    "\n",
    "features_test = test_data.drop('BinaryNumTarget', axis=1).values\n",
    "\n",
    "# Handle string values using label encoding\n",
    "label_encoder = LabelEncoder()\n",
    "# Identify columns with string values (assuming dtype is 'str' or 'object')\n",
    "string_columns = np.array([np.issubdtype(type(col), np.str_) or np.issubdtype(type(col), np.object_) for col in features_test[0]])\n",
    "\n",
    "# Apply label encoding to string columns\n",
    "for col_index in np.where(string_columns)[0]:\n",
    "    features_test[:, col_index] = label_encoder.fit_transform(features_test[:, col_index].astype(str))\n",
    "\n",
    "features_test = features_test.astype(np.float32)\n",
    "\n",
    "\n",
    "# for i in range(len(features_train[0])):\n",
    "#     print(i, type(features_train[1][i]))\n",
    "\n",
    "target_test = test_data['BinaryNumTarget'].values\n",
    "test_torch_ds = FakeNewsDataset(features_test, target_test)\n",
    "test_loader = DataLoader(test_torch_ds, batch_size=params['batch_size'], shuffle=True)\n",
    "\n",
    "\n"
   ]
  },
  {
   "cell_type": "code",
   "execution_count": 14,
   "metadata": {},
   "outputs": [
    {
     "name": "stdout",
     "output_type": "stream",
     "text": [
      "torch.Size([64, 45])\n"
     ]
    }
   ],
   "source": [
    "for i, e in enumerate(test_loader):\n",
    "    print(e[0].shape)\n",
    "    break"
   ]
  },
  {
   "cell_type": "code",
   "execution_count": null,
   "metadata": {},
   "outputs": [],
   "source": []
  },
  {
   "cell_type": "code",
   "execution_count": 15,
   "metadata": {},
   "outputs": [
    {
     "name": "stdout",
     "output_type": "stream",
     "text": [
      "0 torch.Size([64, 45]) torch.Size([64])\n"
     ]
    }
   ],
   "source": [
    "for i, e in enumerate(train_loader):\n",
    "    print(i, e[0].shape, e[1].shape)\n",
    "    break"
   ]
  },
  {
   "cell_type": "code",
   "execution_count": 16,
   "metadata": {},
   "outputs": [],
   "source": [
    "model = Net(params)\n",
    "loss = nn.CrossEntropyLoss()\n",
    "optimizer = torch.optim.Adam(model.parameters(), lr=params['learning_rate'])\n"
   ]
  },
  {
   "cell_type": "code",
   "execution_count": 17,
   "metadata": {},
   "outputs": [
    {
     "name": "stdout",
     "output_type": "stream",
     "text": [
      "Epoch [1/10], Step [1000/1668], Loss: 7.6211\n",
      "Epoch [2/10], Step [1000/1668], Loss: 4.0756\n",
      "Epoch [3/10], Step [1000/1668], Loss: 0.9419\n",
      "Epoch [4/10], Step [1000/1668], Loss: 0.7936\n",
      "Epoch [5/10], Step [1000/1668], Loss: 0.3647\n",
      "Epoch [6/10], Step [1000/1668], Loss: 0.4301\n",
      "Epoch [7/10], Step [1000/1668], Loss: 0.3713\n",
      "Epoch [8/10], Step [1000/1668], Loss: 0.2803\n",
      "Epoch [9/10], Step [1000/1668], Loss: 0.3596\n",
      "Epoch [10/10], Step [1000/1668], Loss: 0.2751\n"
     ]
    }
   ],
   "source": [
    "\n",
    "total_step = len(train_loader)\n",
    "for epoch in range(params['num_epochs']):\n",
    "    for i, (features, labels) in enumerate(train_loader):\n",
    "        features = features.float()\n",
    "        labels = labels.long()\n",
    "        outputs = model(features)\n",
    "        l = loss(outputs, labels)\n",
    "        optimizer.zero_grad()\n",
    "        l.backward()\n",
    "        optimizer.step()\n",
    "        if (i+1) % 1000 == 0:\n",
    "            print ('Epoch [{}/{}], Step [{}/{}], Loss: {:.4f}'.format(epoch+1, params['num_epochs'], i+1, total_step, l.item()))"
   ]
  },
  {
   "cell_type": "code",
   "execution_count": 18,
   "metadata": {},
   "outputs": [
    {
     "name": "stdout",
     "output_type": "stream",
     "text": [
      "Train Accuracy of the model on the 27465 test tweets: 82.33 %\n"
     ]
    }
   ],
   "source": [
    "# eval model\n",
    "model.eval()\n",
    "with torch.no_grad():\n",
    "    correct = 0\n",
    "    total = 0\n",
    "    for features, labels in test_loader:\n",
    "        features = features.float()\n",
    "        labels = labels.long()\n",
    "        outputs = model(features)\n",
    "        _, predicted = torch.max(outputs.data, 1)\n",
    "        total += labels.size(0)\n",
    "        correct += (predicted == labels).sum().item()\n",
    "\n",
    "    print('Train Accuracy of the model on the {} test tweets: {} %'.format(total, np.round(100 * correct / total, 2)))"
   ]
  },
  {
   "cell_type": "code",
   "execution_count": null,
   "metadata": {},
   "outputs": [],
   "source": []
  }
 ],
 "metadata": {
  "kernelspec": {
   "display_name": "Python 3 (ipykernel)",
   "language": "python",
   "name": "python3"
  },
  "language_info": {
   "codemirror_mode": {
    "name": "ipython",
    "version": 3
   },
   "file_extension": ".py",
   "mimetype": "text/x-python",
   "name": "python",
   "nbconvert_exporter": "python",
   "pygments_lexer": "ipython3",
   "version": "3.10.8"
  }
 },
 "nbformat": 4,
 "nbformat_minor": 4
}
